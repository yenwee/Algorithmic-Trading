{
 "cells": [
  {
   "cell_type": "code",
   "execution_count": 5,
   "id": "e2ef306f",
   "metadata": {},
   "outputs": [],
   "source": [
    "# Algorithmic Trading Process\n",
    "# 1. Collect Data\n",
    "# 2. Develop a hypothesis for a strategy\n",
    "# 3. Backtest that strategy\n",
    "# 4. Implement the strategy in production\n",
    "\n",
    "# Data Source\n",
    "import yfinance as yf\n",
    "# Data Viz\n",
    "import plotly.graph_objs as go"
   ]
  },
  {
   "cell_type": "code",
   "execution_count": 6,
   "id": "0c9834ed",
   "metadata": {},
   "outputs": [
    {
     "name": "stdout",
     "output_type": "stream",
     "text": [
      "<class 'pandas.core.frame.DataFrame'>\n",
      "DatetimeIndex: 17279 entries, 2020-10-20 14:00:00+00:00 to 2022-10-20 14:50:00+00:00\n",
      "Data columns (total 7 columns):\n",
      " #   Column        Non-Null Count  Dtype  \n",
      "---  ------        --------------  -----  \n",
      " 0   Open          17279 non-null  float64\n",
      " 1   High          17279 non-null  float64\n",
      " 2   Low           17279 non-null  float64\n",
      " 3   Close         17279 non-null  float64\n",
      " 4   Volume        17279 non-null  int64  \n",
      " 5   Dividends     17279 non-null  int64  \n",
      " 6   Stock Splits  17279 non-null  int64  \n",
      "dtypes: float64(4), int64(3)\n",
      "memory usage: 1.1 MB\n"
     ]
    }
   ],
   "source": [
    "# Request historical data for past 5 years using unofficial Yahoo Finance API\n",
    "data = yf.Ticker(\"ETH-USD\").history(period='2y', interval = '1H')\n",
    "data.info()"
   ]
  },
  {
   "cell_type": "code",
   "execution_count": null,
   "id": "e4ce2778",
   "metadata": {
    "scrolled": true
   },
   "outputs": [],
   "source": [
    "#declare figure\n",
    "fig = go.Figure()\n",
    "\n",
    "#Candlestick\n",
    "fig.add_trace(go.Candlestick(x=data.index,\n",
    "                open=data['Open'],\n",
    "                high=data['High'],\n",
    "                low=data['Low'],\n",
    "                close=data['Close'], name = 'market data'))\n",
    "\n",
    "# Add titles\n",
    "fig.update_layout(\n",
    "    title='Ethereum Live Prices',\n",
    "    yaxis_title='Ethereum Price (US Dollars)')\n",
    "\n",
    "#Show\n",
    "fig.show()"
   ]
  },
  {
   "cell_type": "code",
   "execution_count": null,
   "id": "109a443c",
   "metadata": {},
   "outputs": [],
   "source": []
  }
 ],
 "metadata": {
  "kernelspec": {
   "display_name": "Python 3 (ipykernel)",
   "language": "python",
   "name": "python3"
  },
  "language_info": {
   "codemirror_mode": {
    "name": "ipython",
    "version": 3
   },
   "file_extension": ".py",
   "mimetype": "text/x-python",
   "name": "python",
   "nbconvert_exporter": "python",
   "pygments_lexer": "ipython3",
   "version": "3.9.5"
  }
 },
 "nbformat": 4,
 "nbformat_minor": 5
}
